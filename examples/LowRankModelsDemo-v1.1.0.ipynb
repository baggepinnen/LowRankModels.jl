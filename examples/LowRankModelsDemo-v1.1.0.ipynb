{
 "cells": [
  {
   "cell_type": "code",
   "execution_count": 2,
   "metadata": {},
   "outputs": [],
   "source": [
    "using LowRankModels, Plots, Random, SparseArrays, DataFrames"
   ]
  },
  {
   "cell_type": "markdown",
   "metadata": {},
   "source": [
    "LowRankModels.jl is a julia package for modeling and fitting generalized low rank models (GLRMs). GLRMs model a data array by a low rank matrix, and include many well known models in data analysis, such as principal components analysis (PCA), matrix completion, robust PCA, nonnegative matrix factorization, k-means, and many more."
   ]
  },
  {
   "cell_type": "markdown",
   "metadata": {},
   "source": [
    "LowRankModels.jl makes it easy to mix and match loss functions and regularizers to construct a model suitable for a particular data set. In particular, it supports\n",
    "\n",
    "   * using different loss functions for different columns of the data array, which is useful when data types are heterogeneous (eg, real, boolean, and ordinal columns);\n",
    "   * fitting the model to only some of the entries in the table, which is useful for data tables with many missing (unobserved) entries; and\n",
    "   * adding offsets and scalings to the model without destroying sparsity, which is useful when the data is poorly scaled.\n"
   ]
  },
  {
   "cell_type": "markdown",
   "metadata": {},
   "source": [
    "# Losses"
   ]
  },
  {
   "cell_type": "markdown",
   "metadata": {},
   "source": [
    "A wide variety of loss functions are available in LowRankModels:\n",
    "\n",
    "* quadratic loss `QuadLoss`\n",
    "* hinge loss `HingeLoss`\n",
    "* logistic loss `LogisticLoss`\n",
    "* poisson loss `PoissonLoss`\n",
    "* weighted hinge loss `WeightedHingeLoss`\n",
    "* l1 loss `L1Loss`\n",
    "* ordinal hinge loss `OrdinalHingeLoss`\n",
    "* periodic loss `PeriodicLoss`\n",
    "* multinomial categorical loss `MultinomialLoss`\n",
    "* multinomial ordinal (aka ordered logit) loss `OrderedMultinomialLoss`\n",
    "* bigger-vs-smaller loss `BvSLoss` (for ordinal data)\n",
    "* one-vs all-loss `OvALoss` (for categorical data)"
   ]
  },
  {
   "cell_type": "code",
   "execution_count": 30,
   "metadata": {},
   "outputs": [
    {
     "data": {
      "text/plain": [
       "QuadLoss(1.0, RealDomain())"
      ]
     },
     "execution_count": 30,
     "metadata": {},
     "output_type": "execute_result"
    }
   ],
   "source": [
    "# example loss function\n",
    "loss = QuadLoss()"
   ]
  },
  {
   "cell_type": "code",
   "execution_count": 31,
   "metadata": {},
   "outputs": [
    {
     "data": {
      "text/plain": [
       "4.0"
      ]
     },
     "execution_count": 31,
     "metadata": {},
     "output_type": "execute_result"
    }
   ],
   "source": [
    "evaluate(loss,2.,4.) # (2-4)^2"
   ]
  },
  {
   "cell_type": "code",
   "execution_count": 32,
   "metadata": {},
   "outputs": [
    {
     "data": {
      "text/plain": [
       "1.0"
      ]
     },
     "execution_count": 32,
     "metadata": {},
     "output_type": "execute_result"
    }
   ],
   "source": [
    "evaluate(loss,1.,2.) # (1-2)^2"
   ]
  },
  {
   "cell_type": "markdown",
   "metadata": {},
   "source": [
    "# Regularizers"
   ]
  },
  {
   "cell_type": "markdown",
   "metadata": {},
   "source": [
    "Regularizers help ensure a more interpretable model, eg, one with nonnegative coefficients. Quadratic regularization helps stabilize the fitting procedure.\n",
    "\n",
    "   * quadratic regularization - QuadReg()\n",
    "   * constrained squared euclidean norm - QuadConstraint()\n",
    "   * l1 regularization - OneReg()\n",
    "   * no regularization - ZeroReg()\n",
    "   * nonnegative constraint - NonNegConstraint() (eg, for nonnegative matrix factorization)\n",
    "   * 1-sparse constraint - OneSparseConstraint() (eg, for orthogonal NNMF)\n",
    "   * unit 1-sparse constraint - UnitOneSparseConstraint() (eg, for k-means)\n",
    "   * simplex constraint - SimplexConstraint()\n",
    "   * l1 regularization, combined with nonnegative constraint - NonNegOneReg()\n",
    "   * fix features at values y0 - FixedLatentFeaturesConstraint(y0)"
   ]
  },
  {
   "cell_type": "code",
   "execution_count": 33,
   "metadata": {},
   "outputs": [
    {
     "data": {
      "text/plain": [
       "QuadReg(5.0)"
      ]
     },
     "execution_count": 33,
     "metadata": {},
     "output_type": "execute_result"
    }
   ],
   "source": [
    "# regularizers\n",
    "nonneg = NonNegConstraint()  # convex indicator of the nonnegative orthant\n",
    "l2 = QuadReg(5)              # 5(.)^2"
   ]
  },
  {
   "cell_type": "code",
   "execution_count": 34,
   "metadata": {},
   "outputs": [
    {
     "data": {
      "text/plain": [
       "0"
      ]
     },
     "execution_count": 34,
     "metadata": {},
     "output_type": "execute_result"
    }
   ],
   "source": [
    "evaluate(nonneg, 1)"
   ]
  },
  {
   "cell_type": "code",
   "execution_count": 35,
   "metadata": {},
   "outputs": [
    {
     "data": {
      "text/plain": [
       "Inf"
      ]
     },
     "execution_count": 35,
     "metadata": {},
     "output_type": "execute_result"
    }
   ],
   "source": [
    "evaluate(nonneg, -1)"
   ]
  },
  {
   "cell_type": "code",
   "execution_count": 36,
   "metadata": {},
   "outputs": [
    {
     "data": {
      "text/plain": [
       "5.0"
      ]
     },
     "execution_count": 36,
     "metadata": {},
     "output_type": "execute_result"
    }
   ],
   "source": [
    "evaluate(l2, 1) # 5(1)^2"
   ]
  },
  {
   "cell_type": "code",
   "execution_count": 37,
   "metadata": {},
   "outputs": [
    {
     "data": {
      "text/plain": [
       "20.0"
      ]
     },
     "execution_count": 37,
     "metadata": {},
     "output_type": "execute_result"
    }
   ],
   "source": [
    "evaluate(l2, -2) # 5(-2)^2"
   ]
  },
  {
   "cell_type": "markdown",
   "metadata": {},
   "source": [
    "# Generalized Low Rank Models"
   ]
  },
  {
   "cell_type": "markdown",
   "metadata": {},
   "source": [
    "GLRMs form a low rank model for tabular data A with m rows and n columns, which can be input as an array or any array-like object (for example, a data frame). It is fine if only some of the entries have been observed (i.e., the others are missing or NA); the GLRM will only be fit on the observed entries $\\Omega$.\n",
    "\n",
    "The desired model is specified by choosing a rank k for the model, an array of loss functions losses, and two regularizers, $r_x$ and $r_w$. The data is modeled as $X^TY$, where $X$ is a $k\\times m$ matrix and $Y$ is a $k\\times n$ matrix. $X$ and $Y$ are found by solving the optimization problem\n",
    "\n",
    "$$\\min \\sum_{(i,j) \\in \\Omega} \\ell_j\\bigg((X^T Y)[i,j], A[i,j]\\bigg) + \\sum_i r_x(X[:,i]) + \\sum_j r_y(Y[:,j])$$\n",
    "\n",
    "To form a GLRM, the user specifies\n",
    "\n",
    "   * the data $A$ (any AbstractArray, such as an array, a sparse matrix, or a data frame)\n",
    "   * the array of loss functions $\\ell$\n",
    "   * the regularizers $r_x$ and $r_w$\n",
    "   * the rank $k$\n",
    "   * the observations $\\Omega$\n"
   ]
  },
  {
   "cell_type": "markdown",
   "metadata": {},
   "source": [
    "## Example: dense matrix, incomplete observations"
   ]
  },
  {
   "cell_type": "code",
   "execution_count": 38,
   "metadata": {},
   "outputs": [],
   "source": [
    "Random.seed!(1)\n",
    "\n",
    "# generate data\n",
    "m,n = 20,10\n",
    "A = rand(m,2)*rand(2,n)          # data matrix \n",
    "\n",
    "# look for a nonnegative factorization with rank 5\n",
    "loss = QuadLoss()           # quadratic loss\n",
    "nonneg = NonNegConstraint() # require nonnegative factors\n",
    "k = 5\n",
    "Ω = [(rand(1:m), rand(1:n)) for iobs in 1:100] # observe 50 random entries, with replacement\n",
    "glrm = GLRM(A, loss, nonneg, nonneg, k, obs=Ω);"
   ]
  },
  {
   "cell_type": "code",
   "execution_count": 39,
   "metadata": {},
   "outputs": [
    {
     "name": "stdout",
     "output_type": "stream",
     "text": [
      "Fitting GLRM\n",
      "Iteration 10: objective value = 30.96601471516671\n",
      "Iteration 20: objective value = 25.906874109924694\n",
      "Iteration 30: objective value = 21.032954794013904\n",
      "Iteration 40: objective value = 18.652747843346216\n",
      "Iteration 50: objective value = 17.555095496418712\n",
      "Iteration 60: objective value = 17.040150781258383\n",
      "Iteration 70: objective value = 16.676535553975437\n",
      "Iteration 80: objective value = 16.36043529444562\n",
      "Iteration 90: objective value = 16.04190265061905\n",
      "Iteration 100: objective value = 15.739454018044162\n"
     ]
    }
   ],
   "source": [
    "# To fit the model, call\n",
    "X,Y,ch = fit!(glrm);"
   ]
  },
  {
   "cell_type": "code",
   "execution_count": 40,
   "metadata": {},
   "outputs": [
    {
     "data": {
      "image/svg+xml": [
       "<?xml version=\"1.0\" encoding=\"utf-8\"?>\n",
       "<svg xmlns=\"http://www.w3.org/2000/svg\" xmlns:xlink=\"http://www.w3.org/1999/xlink\" width=\"600\" height=\"400\" viewBox=\"0 0 2400 1600\">\n",
       "<defs>\n",
       "  <clipPath id=\"clip0500\">\n",
       "    <rect x=\"0\" y=\"0\" width=\"2400\" height=\"1600\"/>\n",
       "  </clipPath>\n",
       "</defs>\n",
       "<polygon clip-path=\"url(#clip0500)\" points=\"\n",
       "0,1600 2400,1600 2400,0 0,0 \n",
       "  \" fill=\"#ffffff\" fill-rule=\"evenodd\" fill-opacity=\"1\"/>\n",
       "<defs>\n",
       "  <clipPath id=\"clip0501\">\n",
       "    <rect x=\"480\" y=\"0\" width=\"1681\" height=\"1600\"/>\n",
       "  </clipPath>\n",
       "</defs>\n",
       "<polygon clip-path=\"url(#clip0500)\" points=\"\n",
       "251.71,1425.62 2352.76,1425.62 2352.76,47.2441 251.71,47.2441 \n",
       "  \" fill=\"#ffffff\" fill-rule=\"evenodd\" fill-opacity=\"1\"/>\n",
       "<defs>\n",
       "  <clipPath id=\"clip0502\">\n",
       "    <rect x=\"251\" y=\"47\" width=\"2102\" height=\"1379\"/>\n",
       "  </clipPath>\n",
       "</defs>\n",
       "<polyline clip-path=\"url(#clip0502)\" style=\"stroke:#000000; stroke-width:2; stroke-opacity:0.1; fill:none\" points=\"\n",
       "  291.152,1425.62 291.152,47.2441 \n",
       "  \"/>\n",
       "<polyline clip-path=\"url(#clip0502)\" style=\"stroke:#000000; stroke-width:2; stroke-opacity:0.1; fill:none\" points=\"\n",
       "  791.687,1425.62 791.687,47.2441 \n",
       "  \"/>\n",
       "<polyline clip-path=\"url(#clip0502)\" style=\"stroke:#000000; stroke-width:2; stroke-opacity:0.1; fill:none\" points=\"\n",
       "  1292.22,1425.62 1292.22,47.2441 \n",
       "  \"/>\n",
       "<polyline clip-path=\"url(#clip0502)\" style=\"stroke:#000000; stroke-width:2; stroke-opacity:0.1; fill:none\" points=\"\n",
       "  1792.76,1425.62 1792.76,47.2441 \n",
       "  \"/>\n",
       "<polyline clip-path=\"url(#clip0502)\" style=\"stroke:#000000; stroke-width:2; stroke-opacity:0.1; fill:none\" points=\"\n",
       "  2293.29,1425.62 2293.29,47.2441 \n",
       "  \"/>\n",
       "<polyline clip-path=\"url(#clip0502)\" style=\"stroke:#000000; stroke-width:2; stroke-opacity:0.1; fill:none\" points=\"\n",
       "  251.71,1111.88 2352.76,1111.88 \n",
       "  \"/>\n",
       "<polyline clip-path=\"url(#clip0502)\" style=\"stroke:#000000; stroke-width:2; stroke-opacity:0.1; fill:none\" points=\"\n",
       "  251.71,769.754 2352.76,769.754 \n",
       "  \"/>\n",
       "<polyline clip-path=\"url(#clip0502)\" style=\"stroke:#000000; stroke-width:2; stroke-opacity:0.1; fill:none\" points=\"\n",
       "  251.71,427.63 2352.76,427.63 \n",
       "  \"/>\n",
       "<polyline clip-path=\"url(#clip0502)\" style=\"stroke:#000000; stroke-width:2; stroke-opacity:0.1; fill:none\" points=\"\n",
       "  251.71,85.5053 2352.76,85.5053 \n",
       "  \"/>\n",
       "<polyline clip-path=\"url(#clip0500)\" style=\"stroke:#000000; stroke-width:4; stroke-opacity:1; fill:none\" points=\"\n",
       "  251.71,1425.62 2352.76,1425.62 \n",
       "  \"/>\n",
       "<polyline clip-path=\"url(#clip0500)\" style=\"stroke:#000000; stroke-width:4; stroke-opacity:1; fill:none\" points=\"\n",
       "  251.71,1425.62 251.71,47.2441 \n",
       "  \"/>\n",
       "<polyline clip-path=\"url(#clip0500)\" style=\"stroke:#000000; stroke-width:4; stroke-opacity:1; fill:none\" points=\"\n",
       "  291.152,1425.62 291.152,1404.94 \n",
       "  \"/>\n",
       "<polyline clip-path=\"url(#clip0500)\" style=\"stroke:#000000; stroke-width:4; stroke-opacity:1; fill:none\" points=\"\n",
       "  791.687,1425.62 791.687,1404.94 \n",
       "  \"/>\n",
       "<polyline clip-path=\"url(#clip0500)\" style=\"stroke:#000000; stroke-width:4; stroke-opacity:1; fill:none\" points=\"\n",
       "  1292.22,1425.62 1292.22,1404.94 \n",
       "  \"/>\n",
       "<polyline clip-path=\"url(#clip0500)\" style=\"stroke:#000000; stroke-width:4; stroke-opacity:1; fill:none\" points=\"\n",
       "  1792.76,1425.62 1792.76,1404.94 \n",
       "  \"/>\n",
       "<polyline clip-path=\"url(#clip0500)\" style=\"stroke:#000000; stroke-width:4; stroke-opacity:1; fill:none\" points=\"\n",
       "  2293.29,1425.62 2293.29,1404.94 \n",
       "  \"/>\n",
       "<polyline clip-path=\"url(#clip0500)\" style=\"stroke:#000000; stroke-width:4; stroke-opacity:1; fill:none\" points=\"\n",
       "  251.71,1111.88 283.226,1111.88 \n",
       "  \"/>\n",
       "<polyline clip-path=\"url(#clip0500)\" style=\"stroke:#000000; stroke-width:4; stroke-opacity:1; fill:none\" points=\"\n",
       "  251.71,769.754 283.226,769.754 \n",
       "  \"/>\n",
       "<polyline clip-path=\"url(#clip0500)\" style=\"stroke:#000000; stroke-width:4; stroke-opacity:1; fill:none\" points=\"\n",
       "  251.71,427.63 283.226,427.63 \n",
       "  \"/>\n",
       "<polyline clip-path=\"url(#clip0500)\" style=\"stroke:#000000; stroke-width:4; stroke-opacity:1; fill:none\" points=\"\n",
       "  251.71,85.5053 283.226,85.5053 \n",
       "  \"/>\n",
       "<g clip-path=\"url(#clip0500)\">\n",
       "<text style=\"fill:#000000; fill-opacity:1; font-family:Arial,Helvetica Neue,Helvetica,sans-serif; font-size:48px; text-anchor:middle;\" transform=\"rotate(0, 291.152, 1479.62)\" x=\"291.152\" y=\"1479.62\">0</text>\n",
       "</g>\n",
       "<g clip-path=\"url(#clip0500)\">\n",
       "<text style=\"fill:#000000; fill-opacity:1; font-family:Arial,Helvetica Neue,Helvetica,sans-serif; font-size:48px; text-anchor:middle;\" transform=\"rotate(0, 791.687, 1479.62)\" x=\"791.687\" y=\"1479.62\">25</text>\n",
       "</g>\n",
       "<g clip-path=\"url(#clip0500)\">\n",
       "<text style=\"fill:#000000; fill-opacity:1; font-family:Arial,Helvetica Neue,Helvetica,sans-serif; font-size:48px; text-anchor:middle;\" transform=\"rotate(0, 1292.22, 1479.62)\" x=\"1292.22\" y=\"1479.62\">50</text>\n",
       "</g>\n",
       "<g clip-path=\"url(#clip0500)\">\n",
       "<text style=\"fill:#000000; fill-opacity:1; font-family:Arial,Helvetica Neue,Helvetica,sans-serif; font-size:48px; text-anchor:middle;\" transform=\"rotate(0, 1792.76, 1479.62)\" x=\"1792.76\" y=\"1479.62\">75</text>\n",
       "</g>\n",
       "<g clip-path=\"url(#clip0500)\">\n",
       "<text style=\"fill:#000000; fill-opacity:1; font-family:Arial,Helvetica Neue,Helvetica,sans-serif; font-size:48px; text-anchor:middle;\" transform=\"rotate(0, 2293.29, 1479.62)\" x=\"2293.29\" y=\"1479.62\">100</text>\n",
       "</g>\n",
       "<g clip-path=\"url(#clip0500)\">\n",
       "<text style=\"fill:#000000; fill-opacity:1; font-family:Arial,Helvetica Neue,Helvetica,sans-serif; font-size:48px; text-anchor:start;\" transform=\"rotate(0, 141.569, 1135.61)\" x=\"141.569\" y=\"1135.61\">10</text>\n",
       "</g>\n",
       "<g clip-path=\"url(#clip0500)\">\n",
       "<text style=\"fill:#000000; fill-opacity:1; font-family:Arial,Helvetica Neue,Helvetica,sans-serif; font-size:38px; text-anchor:start;\" transform=\"rotate(0, 195.093, 1108.2)\" x=\"195.093\" y=\"1108.2\">2 </text>\n",
       "</g>\n",
       "<g clip-path=\"url(#clip0500)\">\n",
       "<text style=\"fill:#000000; fill-opacity:1; font-family:Arial,Helvetica Neue,Helvetica,sans-serif; font-size:48px; text-anchor:start;\" transform=\"rotate(0, 141.569, 793.482)\" x=\"141.569\" y=\"793.482\">10</text>\n",
       "</g>\n",
       "<g clip-path=\"url(#clip0500)\">\n",
       "<text style=\"fill:#000000; fill-opacity:1; font-family:Arial,Helvetica Neue,Helvetica,sans-serif; font-size:38px; text-anchor:start;\" transform=\"rotate(0, 195.093, 766.071)\" x=\"195.093\" y=\"766.071\">3 </text>\n",
       "</g>\n",
       "<g clip-path=\"url(#clip0500)\">\n",
       "<text style=\"fill:#000000; fill-opacity:1; font-family:Arial,Helvetica Neue,Helvetica,sans-serif; font-size:48px; text-anchor:start;\" transform=\"rotate(0, 141.569, 451.357)\" x=\"141.569\" y=\"451.357\">10</text>\n",
       "</g>\n",
       "<g clip-path=\"url(#clip0500)\">\n",
       "<text style=\"fill:#000000; fill-opacity:1; font-family:Arial,Helvetica Neue,Helvetica,sans-serif; font-size:38px; text-anchor:start;\" transform=\"rotate(0, 195.093, 423.947)\" x=\"195.093\" y=\"423.947\">4 </text>\n",
       "</g>\n",
       "<g clip-path=\"url(#clip0500)\">\n",
       "<text style=\"fill:#000000; fill-opacity:1; font-family:Arial,Helvetica Neue,Helvetica,sans-serif; font-size:48px; text-anchor:start;\" transform=\"rotate(0, 141.569, 109.233)\" x=\"141.569\" y=\"109.233\">10</text>\n",
       "</g>\n",
       "<g clip-path=\"url(#clip0500)\">\n",
       "<text style=\"fill:#000000; fill-opacity:1; font-family:Arial,Helvetica Neue,Helvetica,sans-serif; font-size:38px; text-anchor:start;\" transform=\"rotate(0, 195.093, 81.8225)\" x=\"195.093\" y=\"81.8225\">5 </text>\n",
       "</g>\n",
       "<g clip-path=\"url(#clip0500)\">\n",
       "<text style=\"fill:#000000; fill-opacity:1; font-family:Arial,Helvetica Neue,Helvetica,sans-serif; font-size:66px; text-anchor:middle;\" transform=\"rotate(0, 1302.23, 1559.48)\" x=\"1302.23\" y=\"1559.48\">iteration</text>\n",
       "</g>\n",
       "<g clip-path=\"url(#clip0500)\">\n",
       "<text style=\"fill:#000000; fill-opacity:1; font-family:Arial,Helvetica Neue,Helvetica,sans-serif; font-size:66px; text-anchor:middle;\" transform=\"rotate(-90, 89.2861, 736.431)\" x=\"89.2861\" y=\"736.431\">objective</text>\n",
       "</g>\n",
       "<polyline clip-path=\"url(#clip0502)\" style=\"stroke:#009af9; stroke-width:4; stroke-opacity:1; fill:none\" points=\"\n",
       "  311.174,86.2547 331.195,1259.56 351.216,1270.54 371.238,1273.21 391.259,1276.22 411.281,1277.81 431.302,1279.41 451.323,1281.4 471.345,1283.42 491.366,1286.06 \n",
       "  511.388,1289.67 531.409,1292.04 551.43,1294.75 571.452,1297.93 591.473,1299.89 611.495,1301.83 631.516,1304.66 651.537,1306.53 671.559,1308.43 691.58,1312.56 \n",
       "  711.602,1314.67 731.623,1317.44 751.644,1321.59 771.666,1324.3 791.687,1327.06 811.709,1331.79 831.73,1334.32 851.751,1337.09 871.773,1341.27 891.794,1343.53 \n",
       "  911.816,1345.32 931.837,1349.1 951.858,1350.55 971.88,1351.92 991.901,1355.24 1011.92,1356.27 1031.94,1357.13 1051.97,1359.76 1071.99,1360.48 1092.01,1361.38 \n",
       "  1112.03,1363.39 1132.05,1364 1152.07,1364.8 1172.09,1366.32 1192.12,1366.79 1212.14,1367.52 1232.16,1368.58 1252.18,1368.97 1272.2,1369.61 1292.22,1370.39 \n",
       "  1312.24,1370.81 1332.27,1371.47 1352.29,1372.06 1372.31,1372.36 1392.33,1372.9 1412.35,1373.37 1432.37,1373.67 1452.39,1374.13 1472.41,1374.5 1492.44,1374.81 \n",
       "  1512.46,1375.22 1532.48,1375.54 1552.5,1375.84 1572.52,1376.18 1592.54,1376.46 1612.56,1376.75 1632.59,1377.09 1652.61,1377.41 1672.63,1377.68 1692.65,1378.02 \n",
       "  1712.67,1378.25 1732.69,1378.52 1752.71,1378.82 1772.74,1379.09 1792.76,1379.41 1812.78,1379.67 1832.8,1379.99 1852.82,1380.26 1872.84,1380.57 1892.86,1380.86 \n",
       "  1912.89,1381.14 1932.91,1381.43 1952.93,1381.72 1972.95,1382.01 1992.97,1382.3 2012.99,1382.6 2033.01,1382.89 2053.04,1383.18 2073.06,1383.48 2093.08,1383.78 \n",
       "  2113.1,1384.08 2133.12,1384.37 2153.14,1384.67 2173.16,1384.96 2193.19,1385.25 2213.21,1385.54 2233.23,1385.82 2253.25,1386.09 2273.27,1386.35 2293.29,1386.61 \n",
       "  \n",
       "  \"/>\n",
       "<polygon clip-path=\"url(#clip0500)\" points=\"\n",
       "1989.93,251.724 2280.76,251.724 2280.76,130.764 1989.93,130.764 \n",
       "  \" fill=\"#ffffff\" fill-rule=\"evenodd\" fill-opacity=\"1\"/>\n",
       "<polyline clip-path=\"url(#clip0500)\" style=\"stroke:#000000; stroke-width:4; stroke-opacity:1; fill:none\" points=\"\n",
       "  1989.93,251.724 2280.76,251.724 2280.76,130.764 1989.93,130.764 1989.93,251.724 \n",
       "  \"/>\n",
       "<polyline clip-path=\"url(#clip0500)\" style=\"stroke:#009af9; stroke-width:4; stroke-opacity:1; fill:none\" points=\"\n",
       "  2013.93,191.244 2157.93,191.244 \n",
       "  \"/>\n",
       "<g clip-path=\"url(#clip0500)\">\n",
       "<text style=\"fill:#000000; fill-opacity:1; font-family:Arial,Helvetica Neue,Helvetica,sans-serif; font-size:48px; text-anchor:start;\" transform=\"rotate(0, 2181.93, 208.744)\" x=\"2181.93\" y=\"208.744\">y1</text>\n",
       "</g>\n",
       "</svg>\n"
      ]
     },
     "execution_count": 40,
     "metadata": {},
     "output_type": "execute_result"
    }
   ],
   "source": [
    "# did it converge? \n",
    "plot(ch.objective[2:end])  # first entry is infinite, since initial factors are not nonnegative\n",
    "xlabel!(\"iteration\")\n",
    "ylabel!(\"objective\")\n",
    "yaxis!(:log)"
   ]
  },
  {
   "cell_type": "markdown",
   "metadata": {},
   "source": [
    "This runs an alternating directions proximal gradient method to find the $X$ and $Y$ that minimize the objective function."
   ]
  },
  {
   "cell_type": "code",
   "execution_count": 41,
   "metadata": {},
   "outputs": [
    {
     "data": {
      "text/plain": [
       "5×20 Array{Float64,2}:\n",
       " 0.0869609  0.133926    0.12529   0.0  …  0.0  0.0  0.113651    0.395263  \n",
       " 0.0        0.0853408   0.125362  0.0     0.0  0.0  0.00705357  0.0       \n",
       " 0.0        0.0434652   0.0       0.0     0.0  0.0  0.0267825   0.00186851\n",
       " 0.0        0.136009    0.0       0.0     0.0  0.0  0.0180746   0.0       \n",
       " 0.0        0.00343981  0.0       0.0     0.0  0.0  0.0513907   2.8092e-5 "
      ]
     },
     "execution_count": 41,
     "metadata": {},
     "output_type": "execute_result"
    }
   ],
   "source": [
    "X"
   ]
  },
  {
   "cell_type": "code",
   "execution_count": 42,
   "metadata": {},
   "outputs": [
    {
     "data": {
      "text/plain": [
       "5×10 Array{Float64,2}:\n",
       " 2.11424    2.0145      0.689844     …  1.03779   0.491886  0.657266\n",
       " 2.93206    2.26443     0.623894        1.19131   3.23841   1.88255 \n",
       " 0.0629576  0.00173739  0.00235652      2.90583   2.24857   6.0587  \n",
       " 0.185631   0.210268    0.000980211     0.0       1.87045   2.61232 \n",
       " 0.130496   0.21822     0.000739932     0.232767  2.49313   0.19638 "
      ]
     },
     "execution_count": 42,
     "metadata": {},
     "output_type": "execute_result"
    }
   ],
   "source": [
    "Y"
   ]
  },
  {
   "cell_type": "markdown",
   "metadata": {},
   "source": [
    "To find a better approximation, try restarting the iteration (if you see convergence), or running for more iterations. \n",
    "You can just call fit!(glrm) again, or increase the number of iterations."
   ]
  },
  {
   "cell_type": "markdown",
   "metadata": {},
   "source": [
    "# Initialization\n",
    "\n",
    "You'll also often improve convergence, or even converge to a better solution, with good initialization:"
   ]
  },
  {
   "cell_type": "code",
   "execution_count": 43,
   "metadata": {},
   "outputs": [
    {
     "name": "stdout",
     "output_type": "stream",
     "text": [
      "Fitting GLRM\n",
      "Iteration 10: objective value = 0.13447604673539088\n",
      "Iteration 20: objective value = 0.038027469752441506\n",
      "Iteration 30: objective value = 0.01086888732733188\n"
     ]
    },
    {
     "data": {
      "text/plain": [
       "([0.141087 0.0 … 0.098328 0.271028; 0.255692 0.133129 … 0.292917 0.664573; … ; 0.335368 0.190858 … 0.192675 0.592641; 0.0 0.637137 … 0.100574 0.440502], [0.000547056 0.155107 … 0.0 0.0687331; 0.0670834 0.203036 … 0.134343 0.226194; … ; 0.512137 0.259018 … 0.0 0.50565; 0.529552 0.229209 … 0.224521 0.124723], ConvergenceHistory(\"ProxGradGLRM\", [Inf, 28.4395, 9.14371, 0.864888, 0.37692, 0.272977, 0.221574, 0.193896, 0.17122, 0.151837  …  0.0289067, 0.0249007, 0.0217853, 0.0190616, 0.0170927, 0.0154683, 0.0137965, 0.0120712, 0.0108689, 0.00989485], Float64[], [0.0, 0.0, 0.0, 0.0, 0.0, 0.0, 0.0, 0.0, 0.0, 0.0  …  0.0, 0.0, 0.0, 0.0, 0.0, 0.0, 0.0, 0.0, 0.0, 0.0], [0.0, 0.0, 0.0, 0.0, 0.0, 0.0, 0.0, 0.0, 0.0, 0.0  …  0.0, 0.0, 0.0, 0.0, 0.0, 0.0, 0.0, 0.0, 0.0, 0.0], [0.0, 0.000282049, 0.00049305, 0.000689983, 0.000929117, 0.00114703, 0.00134301, 0.00154424, 0.00173616, 0.00192928  …  0.0046823, 0.00487542, 0.00511837, 0.00533319, 0.00558519, 0.00584412, 0.006212, 0.0064621, 0.00683403, 0.00714397], [0.0, 0.0, 0.0, 0.0, 0.0, 0.0, 0.0, 0.0, 0.0, 0.0  …  0.0, 0.0, 0.0, 0.0, 0.0, 0.0, 0.0, 0.0, 0.0, 0.0], 0))"
      ]
     },
     "execution_count": 43,
     "metadata": {},
     "output_type": "execute_result"
    }
   ],
   "source": [
    "init_svd!(glrm)\n",
    "X,Y,ch_svd = fit!(glrm)"
   ]
  },
  {
   "cell_type": "code",
   "execution_count": 44,
   "metadata": {},
   "outputs": [
    {
     "data": {
      "image/svg+xml": [
       "<?xml version=\"1.0\" encoding=\"utf-8\"?>\n",
       "<svg xmlns=\"http://www.w3.org/2000/svg\" xmlns:xlink=\"http://www.w3.org/1999/xlink\" width=\"600\" height=\"400\" viewBox=\"0 0 2400 1600\">\n",
       "<defs>\n",
       "  <clipPath id=\"clip0900\">\n",
       "    <rect x=\"0\" y=\"0\" width=\"2400\" height=\"1600\"/>\n",
       "  </clipPath>\n",
       "</defs>\n",
       "<polygon clip-path=\"url(#clip0900)\" points=\"\n",
       "0,1600 2400,1600 2400,0 0,0 \n",
       "  \" fill=\"#ffffff\" fill-rule=\"evenodd\" fill-opacity=\"1\"/>\n",
       "<defs>\n",
       "  <clipPath id=\"clip0901\">\n",
       "    <rect x=\"480\" y=\"0\" width=\"1681\" height=\"1600\"/>\n",
       "  </clipPath>\n",
       "</defs>\n",
       "<polygon clip-path=\"url(#clip0900)\" points=\"\n",
       "279.82,1425.62 2352.76,1425.62 2352.76,47.2441 279.82,47.2441 \n",
       "  \" fill=\"#ffffff\" fill-rule=\"evenodd\" fill-opacity=\"1\"/>\n",
       "<defs>\n",
       "  <clipPath id=\"clip0902\">\n",
       "    <rect x=\"279\" y=\"47\" width=\"2074\" height=\"1379\"/>\n",
       "  </clipPath>\n",
       "</defs>\n",
       "<polyline clip-path=\"url(#clip0902)\" style=\"stroke:#000000; stroke-width:2; stroke-opacity:0.1; fill:none\" points=\"\n",
       "  318.735,1425.62 318.735,47.2441 \n",
       "  \"/>\n",
       "<polyline clip-path=\"url(#clip0902)\" style=\"stroke:#000000; stroke-width:2; stroke-opacity:0.1; fill:none\" points=\"\n",
       "  812.573,1425.62 812.573,47.2441 \n",
       "  \"/>\n",
       "<polyline clip-path=\"url(#clip0902)\" style=\"stroke:#000000; stroke-width:2; stroke-opacity:0.1; fill:none\" points=\"\n",
       "  1306.41,1425.62 1306.41,47.2441 \n",
       "  \"/>\n",
       "<polyline clip-path=\"url(#clip0902)\" style=\"stroke:#000000; stroke-width:2; stroke-opacity:0.1; fill:none\" points=\"\n",
       "  1800.25,1425.62 1800.25,47.2441 \n",
       "  \"/>\n",
       "<polyline clip-path=\"url(#clip0902)\" style=\"stroke:#000000; stroke-width:2; stroke-opacity:0.1; fill:none\" points=\"\n",
       "  2294.09,1425.62 2294.09,47.2441 \n",
       "  \"/>\n",
       "<polyline clip-path=\"url(#clip0902)\" style=\"stroke:#000000; stroke-width:2; stroke-opacity:0.1; fill:none\" points=\"\n",
       "  279.82,1385.76 2352.76,1385.76 \n",
       "  \"/>\n",
       "<polyline clip-path=\"url(#clip0902)\" style=\"stroke:#000000; stroke-width:2; stroke-opacity:0.1; fill:none\" points=\"\n",
       "  279.82,1014.35 2352.76,1014.35 \n",
       "  \"/>\n",
       "<polyline clip-path=\"url(#clip0902)\" style=\"stroke:#000000; stroke-width:2; stroke-opacity:0.1; fill:none\" points=\"\n",
       "  279.82,642.951 2352.76,642.951 \n",
       "  \"/>\n",
       "<polyline clip-path=\"url(#clip0902)\" style=\"stroke:#000000; stroke-width:2; stroke-opacity:0.1; fill:none\" points=\"\n",
       "  279.82,271.549 2352.76,271.549 \n",
       "  \"/>\n",
       "<polyline clip-path=\"url(#clip0900)\" style=\"stroke:#000000; stroke-width:4; stroke-opacity:1; fill:none\" points=\"\n",
       "  279.82,1425.62 2352.76,1425.62 \n",
       "  \"/>\n",
       "<polyline clip-path=\"url(#clip0900)\" style=\"stroke:#000000; stroke-width:4; stroke-opacity:1; fill:none\" points=\"\n",
       "  279.82,1425.62 279.82,47.2441 \n",
       "  \"/>\n",
       "<polyline clip-path=\"url(#clip0900)\" style=\"stroke:#000000; stroke-width:4; stroke-opacity:1; fill:none\" points=\"\n",
       "  318.735,1425.62 318.735,1404.94 \n",
       "  \"/>\n",
       "<polyline clip-path=\"url(#clip0900)\" style=\"stroke:#000000; stroke-width:4; stroke-opacity:1; fill:none\" points=\"\n",
       "  812.573,1425.62 812.573,1404.94 \n",
       "  \"/>\n",
       "<polyline clip-path=\"url(#clip0900)\" style=\"stroke:#000000; stroke-width:4; stroke-opacity:1; fill:none\" points=\"\n",
       "  1306.41,1425.62 1306.41,1404.94 \n",
       "  \"/>\n",
       "<polyline clip-path=\"url(#clip0900)\" style=\"stroke:#000000; stroke-width:4; stroke-opacity:1; fill:none\" points=\"\n",
       "  1800.25,1425.62 1800.25,1404.94 \n",
       "  \"/>\n",
       "<polyline clip-path=\"url(#clip0900)\" style=\"stroke:#000000; stroke-width:4; stroke-opacity:1; fill:none\" points=\"\n",
       "  2294.09,1425.62 2294.09,1404.94 \n",
       "  \"/>\n",
       "<polyline clip-path=\"url(#clip0900)\" style=\"stroke:#000000; stroke-width:4; stroke-opacity:1; fill:none\" points=\"\n",
       "  279.82,1385.76 310.914,1385.76 \n",
       "  \"/>\n",
       "<polyline clip-path=\"url(#clip0900)\" style=\"stroke:#000000; stroke-width:4; stroke-opacity:1; fill:none\" points=\"\n",
       "  279.82,1014.35 310.914,1014.35 \n",
       "  \"/>\n",
       "<polyline clip-path=\"url(#clip0900)\" style=\"stroke:#000000; stroke-width:4; stroke-opacity:1; fill:none\" points=\"\n",
       "  279.82,642.951 310.914,642.951 \n",
       "  \"/>\n",
       "<polyline clip-path=\"url(#clip0900)\" style=\"stroke:#000000; stroke-width:4; stroke-opacity:1; fill:none\" points=\"\n",
       "  279.82,271.549 310.914,271.549 \n",
       "  \"/>\n",
       "<g clip-path=\"url(#clip0900)\">\n",
       "<text style=\"fill:#000000; fill-opacity:1; font-family:Arial,Helvetica Neue,Helvetica,sans-serif; font-size:48px; text-anchor:middle;\" transform=\"rotate(0, 318.735, 1479.62)\" x=\"318.735\" y=\"1479.62\">0</text>\n",
       "</g>\n",
       "<g clip-path=\"url(#clip0900)\">\n",
       "<text style=\"fill:#000000; fill-opacity:1; font-family:Arial,Helvetica Neue,Helvetica,sans-serif; font-size:48px; text-anchor:middle;\" transform=\"rotate(0, 812.573, 1479.62)\" x=\"812.573\" y=\"1479.62\">25</text>\n",
       "</g>\n",
       "<g clip-path=\"url(#clip0900)\">\n",
       "<text style=\"fill:#000000; fill-opacity:1; font-family:Arial,Helvetica Neue,Helvetica,sans-serif; font-size:48px; text-anchor:middle;\" transform=\"rotate(0, 1306.41, 1479.62)\" x=\"1306.41\" y=\"1479.62\">50</text>\n",
       "</g>\n",
       "<g clip-path=\"url(#clip0900)\">\n",
       "<text style=\"fill:#000000; fill-opacity:1; font-family:Arial,Helvetica Neue,Helvetica,sans-serif; font-size:48px; text-anchor:middle;\" transform=\"rotate(0, 1800.25, 1479.62)\" x=\"1800.25\" y=\"1479.62\">75</text>\n",
       "</g>\n",
       "<g clip-path=\"url(#clip0900)\">\n",
       "<text style=\"fill:#000000; fill-opacity:1; font-family:Arial,Helvetica Neue,Helvetica,sans-serif; font-size:48px; text-anchor:middle;\" transform=\"rotate(0, 2294.09, 1479.62)\" x=\"2294.09\" y=\"1479.62\">100</text>\n",
       "</g>\n",
       "<g clip-path=\"url(#clip0900)\">\n",
       "<text style=\"fill:#000000; fill-opacity:1; font-family:Arial,Helvetica Neue,Helvetica,sans-serif; font-size:48px; text-anchor:start;\" transform=\"rotate(0, 146.839, 1409.48)\" x=\"146.839\" y=\"1409.48\">10</text>\n",
       "</g>\n",
       "<g clip-path=\"url(#clip0900)\">\n",
       "<text style=\"fill:#000000; fill-opacity:1; font-family:Arial,Helvetica Neue,Helvetica,sans-serif; font-size:38px; text-anchor:start;\" transform=\"rotate(0, 200.364, 1382.07)\" x=\"200.364\" y=\"1382.07\">-</text>\n",
       "</g>\n",
       "<g clip-path=\"url(#clip0900)\">\n",
       "<text style=\"fill:#000000; fill-opacity:1; font-family:Arial,Helvetica Neue,Helvetica,sans-serif; font-size:38px; text-anchor:start;\" transform=\"rotate(0, 223.203, 1382.07)\" x=\"223.203\" y=\"1382.07\">2 </text>\n",
       "</g>\n",
       "<g clip-path=\"url(#clip0900)\">\n",
       "<text style=\"fill:#000000; fill-opacity:1; font-family:Arial,Helvetica Neue,Helvetica,sans-serif; font-size:48px; text-anchor:start;\" transform=\"rotate(0, 169.679, 1038.08)\" x=\"169.679\" y=\"1038.08\">10</text>\n",
       "</g>\n",
       "<g clip-path=\"url(#clip0900)\">\n",
       "<text style=\"fill:#000000; fill-opacity:1; font-family:Arial,Helvetica Neue,Helvetica,sans-serif; font-size:38px; text-anchor:start;\" transform=\"rotate(0, 223.203, 1010.67)\" x=\"223.203\" y=\"1010.67\">0 </text>\n",
       "</g>\n",
       "<g clip-path=\"url(#clip0900)\">\n",
       "<text style=\"fill:#000000; fill-opacity:1; font-family:Arial,Helvetica Neue,Helvetica,sans-serif; font-size:48px; text-anchor:start;\" transform=\"rotate(0, 169.679, 666.679)\" x=\"169.679\" y=\"666.679\">10</text>\n",
       "</g>\n",
       "<g clip-path=\"url(#clip0900)\">\n",
       "<text style=\"fill:#000000; fill-opacity:1; font-family:Arial,Helvetica Neue,Helvetica,sans-serif; font-size:38px; text-anchor:start;\" transform=\"rotate(0, 223.203, 639.268)\" x=\"223.203\" y=\"639.268\">2 </text>\n",
       "</g>\n",
       "<g clip-path=\"url(#clip0900)\">\n",
       "<text style=\"fill:#000000; fill-opacity:1; font-family:Arial,Helvetica Neue,Helvetica,sans-serif; font-size:48px; text-anchor:start;\" transform=\"rotate(0, 169.679, 295.277)\" x=\"169.679\" y=\"295.277\">10</text>\n",
       "</g>\n",
       "<g clip-path=\"url(#clip0900)\">\n",
       "<text style=\"fill:#000000; fill-opacity:1; font-family:Arial,Helvetica Neue,Helvetica,sans-serif; font-size:38px; text-anchor:start;\" transform=\"rotate(0, 223.203, 267.866)\" x=\"223.203\" y=\"267.866\">4 </text>\n",
       "</g>\n",
       "<g clip-path=\"url(#clip0900)\">\n",
       "<text style=\"fill:#000000; fill-opacity:1; font-family:Arial,Helvetica Neue,Helvetica,sans-serif; font-size:66px; text-anchor:middle;\" transform=\"rotate(0, 1316.29, 1559.48)\" x=\"1316.29\" y=\"1559.48\">iteration</text>\n",
       "</g>\n",
       "<g clip-path=\"url(#clip0900)\">\n",
       "<text style=\"fill:#000000; fill-opacity:1; font-family:Arial,Helvetica Neue,Helvetica,sans-serif; font-size:66px; text-anchor:middle;\" transform=\"rotate(-90, 89.2861, 736.431)\" x=\"89.2861\" y=\"736.431\">objective</text>\n",
       "</g>\n",
       "<polyline clip-path=\"url(#clip0902)\" style=\"stroke:#009af9; stroke-width:4; stroke-opacity:1; fill:none\" points=\"\n",
       "  338.488,744.358 358.242,835.872 377.995,1026.06 397.749,1093.04 417.502,1119.07 437.256,1135.89 457.009,1146.65 476.763,1156.68 496.516,1166.37 516.27,1176.16 \n",
       "  536.023,1185.19 555.777,1194.76 575.53,1204.07 595.284,1214.04 615.038,1224.15 634.791,1234.74 654.545,1245.38 674.298,1256.02 694.052,1267.12 713.805,1278.03 \n",
       "  733.559,1288.79 753.312,1300.15 773.066,1312.18 792.819,1322.96 812.573,1333.73 832.326,1342.52 852.08,1350.58 871.833,1359.8 891.587,1370.57 911.341,1379.04 \n",
       "  931.094,1386.61 \n",
       "  \"/>\n",
       "<polyline clip-path=\"url(#clip0902)\" style=\"stroke:#e26f46; stroke-width:4; stroke-opacity:1; fill:none\" points=\"\n",
       "  338.488,86.2547 358.242,723.108 377.995,729.071 397.749,730.52 417.502,732.153 437.256,733.015 457.009,733.886 476.763,734.964 496.516,736.063 516.27,737.494 \n",
       "  536.023,739.452 555.777,740.742 575.53,742.211 595.284,743.938 615.038,745.003 634.791,746.055 654.545,747.592 674.298,748.608 694.052,749.638 713.805,751.881 \n",
       "  733.559,753.026 753.312,754.528 773.066,756.78 792.819,758.251 812.573,759.749 832.326,762.314 852.08,763.69 871.833,765.191 891.587,767.465 911.341,768.689 \n",
       "  931.094,769.663 950.848,771.715 970.601,772.497 990.355,773.245 1010.11,775.046 1029.86,775.604 1049.62,776.072 1069.37,777.497 1089.12,777.888 1108.88,778.375 \n",
       "  1128.63,779.468 1148.38,779.801 1168.14,780.232 1187.89,781.06 1207.64,781.314 1227.4,781.71 1247.15,782.284 1266.9,782.496 1286.66,782.843 1306.41,783.266 \n",
       "  1326.16,783.496 1345.92,783.854 1365.67,784.172 1385.43,784.335 1405.18,784.632 1424.93,784.884 1444.69,785.047 1464.44,785.298 1484.19,785.498 1503.95,785.667 \n",
       "  1523.7,785.892 1543.45,786.063 1563.21,786.225 1582.96,786.41 1602.71,786.561 1622.47,786.72 1642.22,786.907 1661.97,787.081 1681.73,787.227 1701.48,787.407 \n",
       "  1721.24,787.533 1740.99,787.682 1760.74,787.845 1780.5,787.993 1800.25,788.167 1820,788.307 1839.76,788.48 1859.51,788.628 1879.26,788.792 1899.02,788.95 \n",
       "  1918.77,789.104 1938.52,789.26 1958.28,789.416 1978.03,789.574 1997.78,789.734 2017.54,789.893 2037.29,790.052 2057.05,790.212 2076.8,790.374 2096.55,790.536 \n",
       "  2116.31,790.697 2136.06,790.858 2155.81,791.019 2175.57,791.178 2195.32,791.335 2215.07,791.489 2234.83,791.641 2254.58,791.788 2274.33,791.932 2294.09,792.071 \n",
       "  \n",
       "  \"/>\n",
       "<polygon clip-path=\"url(#clip0900)\" points=\"\n",
       "1679.66,312.204 2280.76,312.204 2280.76,130.764 1679.66,130.764 \n",
       "  \" fill=\"#ffffff\" fill-rule=\"evenodd\" fill-opacity=\"1\"/>\n",
       "<polyline clip-path=\"url(#clip0900)\" style=\"stroke:#000000; stroke-width:4; stroke-opacity:1; fill:none\" points=\"\n",
       "  1679.66,312.204 2280.76,312.204 2280.76,130.764 1679.66,130.764 1679.66,312.204 \n",
       "  \"/>\n",
       "<polyline clip-path=\"url(#clip0900)\" style=\"stroke:#009af9; stroke-width:4; stroke-opacity:1; fill:none\" points=\"\n",
       "  1703.66,191.244 1847.66,191.244 \n",
       "  \"/>\n",
       "<g clip-path=\"url(#clip0900)\">\n",
       "<text style=\"fill:#000000; fill-opacity:1; font-family:Arial,Helvetica Neue,Helvetica,sans-serif; font-size:48px; text-anchor:start;\" transform=\"rotate(0, 1871.66, 208.744)\" x=\"1871.66\" y=\"208.744\">SVD initialization</text>\n",
       "</g>\n",
       "<polyline clip-path=\"url(#clip0900)\" style=\"stroke:#e26f46; stroke-width:4; stroke-opacity:1; fill:none\" points=\"\n",
       "  1703.66,251.724 1847.66,251.724 \n",
       "  \"/>\n",
       "<g clip-path=\"url(#clip0900)\">\n",
       "<text style=\"fill:#000000; fill-opacity:1; font-family:Arial,Helvetica Neue,Helvetica,sans-serif; font-size:48px; text-anchor:start;\" transform=\"rotate(0, 1871.66, 269.224)\" x=\"1871.66\" y=\"269.224\">no initialization</text>\n",
       "</g>\n",
       "</svg>\n"
      ]
     },
     "execution_count": 44,
     "metadata": {},
     "output_type": "execute_result"
    }
   ],
   "source": [
    "plot(ch_svd.objective[2:end], label=\"SVD initialization\")\n",
    "plot!(ch.objective[2:end], label=\"no initialization\")\n",
    "xlabel!(\"iteration\")\n",
    "ylabel!(\"objective\")\n",
    "yaxis!(:log)"
   ]
  },
  {
   "cell_type": "markdown",
   "metadata": {},
   "source": [
    "## Imputation"
   ]
  },
  {
   "cell_type": "code",
   "execution_count": 45,
   "metadata": {},
   "outputs": [
    {
     "data": {
      "text/plain": [
       "20×10 Array{Number,2}:\n",
       " 0.201064  0.178928  0.0936361  0.338963  …  0.0610706  0.0345337  0.255634\n",
       " 0.626425  0.498201  0.404066   0.52571      0.35284    0.163703   0.485699\n",
       " 0.889128  0.565398  0.590757   0.727527     0.501572   0.273879   0.524708\n",
       " 0.264933  0.213167  0.172958   0.30727      0.140076   0.0812656  0.20812 \n",
       " 0.849472  0.627437  0.40914    0.780748     0.346765   0.113373   0.797801\n",
       " 0.488824  0.434675  0.350332   0.670804  …  0.271115   0.174788   0.472898\n",
       " 0.620052  0.641855  0.322417   0.565983     0.29541    0.0685478  0.72269 \n",
       " 1.1255    1.02346   0.63119    1.2256       0.527708   0.210468   1.20615 \n",
       " 0.214933  0.198515  0.102426   0.335253     0.0716396  0.0341962  0.2766  \n",
       " 0.79803   0.865126  0.424412   0.781505     0.385092   0.0947092  0.968798\n",
       " 0.612195  0.538832  0.363826   0.736084  …  0.292544   0.14433    0.624619\n",
       " 0.325503  0.351202  0.185431   0.469194     0.148028   0.0699904  0.372757\n",
       " 0.371371  0.326883  0.187448   0.429956     0.152637   0.0570415  0.403141\n",
       " 1.15949   0.916536  0.710041   1.34629      0.565187   0.305434   1.06717 \n",
       " 0.223678  0.208483  0.0833057  0.284272     0.0673465  0.012477   0.251368\n",
       " 0.556494  0.35883   0.295561   0.545181  …  0.239097   0.112382   0.451415\n",
       " 0.504458  0.394671  0.306674   0.526402     0.252477   0.126227   0.440751\n",
       " 0.241705  0.312739  0.140464   0.186293     0.140516   0.0255899  0.301894\n",
       " 0.253238  0.271053  0.157952   0.36181      0.124748   0.0631709  0.308106\n",
       " 0.809283  0.775808  0.489043   1.01611      0.395559   0.19164    0.872817"
      ]
     },
     "execution_count": 45,
     "metadata": {},
     "output_type": "execute_result"
    }
   ],
   "source": [
    "impute(glrm)"
   ]
  },
  {
   "cell_type": "code",
   "execution_count": 46,
   "metadata": {},
   "outputs": [
    {
     "data": {
      "text/plain": [
       "20×10 Array{Number,2}:\n",
       " 0.201064  0.185054  0.0820168  0.338963  …  0.0624565  0.0265428  0.255634\n",
       " 0.626425  0.491632  0.404066   0.52571      0.365782   0.163703   0.485699\n",
       " 0.897099  0.566953  0.588903   0.731374     0.483725   0.269266   0.524708\n",
       " 0.264933  0.213167  0.172958   0.30727      0.140076   0.0846287  0.20812 \n",
       " 0.853059  0.629974  0.40914    0.780748     0.346765   0.113373   0.791464\n",
       " 0.488824  0.434675  0.350332   0.670804  …  0.271115   0.198513   0.472898\n",
       " 0.620052  0.64935   0.322417   0.565983     0.29541    0.0685478  0.715202\n",
       " 1.12935   1.00172   0.63119    1.2256       0.535958   0.210468   1.20846 \n",
       " 0.214933  0.198804  0.102426   0.335253     0.0684571  0.0293892  0.2766  \n",
       " 0.79803   0.870121  0.424412   0.781505     0.381404   0.0947092  0.968798\n",
       " 0.620479  0.553392  0.368733   0.728048  …  0.293691   0.14433    0.624619\n",
       " 0.328309  0.360764  0.185431   0.478856     0.148028   0.0622966  0.372757\n",
       " 0.371371  0.32194   0.187448   0.429283     0.152637   0.0397257  0.403141\n",
       " 1.15983   0.916536  0.710041   1.34629      0.580965   0.305434   1.06717 \n",
       " 0.223678  0.203752  0.0833057  0.272388     0.0673465  0.0194672  0.251368\n",
       " 0.558796  0.360129  0.295561   0.545181  …  0.239097   0.112382   0.451415\n",
       " 0.500719  0.394671  0.319965   0.526402     0.252477   0.14166    0.448445\n",
       " 0.257384  0.312739  0.140464   0.164449     0.140516   0.0255899  0.301894\n",
       " 0.26611   0.260782  0.157952   0.344547     0.124748   0.0631709  0.308457\n",
       " 0.809736  0.785958  0.489043   1.03798      0.367106   0.178199   0.872817"
      ]
     },
     "execution_count": 46,
     "metadata": {},
     "output_type": "execute_result"
    }
   ],
   "source": [
    "impute_missing(glrm)"
   ]
  },
  {
   "cell_type": "code",
   "execution_count": 47,
   "metadata": {},
   "outputs": [
    {
     "data": {
      "text/plain": [
       "20×10 Array{Float64,2}:\n",
       "  0.0          -0.00612626    0.0116193   …   0.00799097   0.0        \n",
       "  0.0           0.00656844    0.0             0.0          0.0        \n",
       " -0.00797081   -0.0015551     0.00185394      0.00461293   0.0        \n",
       "  0.0           0.0           0.0            -0.00336303   0.0        \n",
       " -0.00358716   -0.00253737    0.0             0.0          0.00633653 \n",
       "  0.0           0.0           0.0         …  -0.0237258    0.0        \n",
       "  0.0          -0.00749419    0.0             0.0          0.00748765 \n",
       " -0.0038513     0.0217444     0.0             0.0         -0.00231617 \n",
       "  0.0          -0.000289178   0.0             0.00480703   0.0        \n",
       "  0.0          -0.00499555    0.0             0.0          0.0        \n",
       " -0.00828469   -0.0145597    -0.00490724  …   0.0          0.0        \n",
       " -0.00280616   -0.00956241    0.0             0.00769381   0.0        \n",
       "  0.0           0.00494223    0.0             0.0173158    0.0        \n",
       " -0.0003342     0.0           0.0             0.0          0.0        \n",
       "  0.0           0.00473146    0.0            -0.0069902    0.0        \n",
       " -0.00230229   -0.00129851    0.0         …   0.0          0.0        \n",
       "  0.00373952    0.0          -0.0132914      -0.0154327   -0.00769401 \n",
       " -0.0156793     0.0           0.0             0.0          0.0        \n",
       " -0.012872      0.0102709     0.0             0.0         -0.000350826\n",
       " -0.000452368  -0.0101491     0.0             0.0134411    0.0        "
      ]
     },
     "execution_count": 47,
     "metadata": {},
     "output_type": "execute_result"
    }
   ],
   "source": [
    "impute(glrm) - impute_missing(glrm)"
   ]
  },
  {
   "cell_type": "markdown",
   "metadata": {},
   "source": [
    "## Example: sparse matrix, structural zeros are unobserved"
   ]
  },
  {
   "cell_type": "code",
   "execution_count": 48,
   "metadata": {},
   "outputs": [
    {
     "data": {
      "text/plain": [
       "10×10 SparseMatrixCSC{Float64,Int64} with 83 stored entries:\n",
       "  [1 ,  1]  =  -0.39862\n",
       "  [2 ,  1]  =  0.865359\n",
       "  [3 ,  1]  =  -1.52489\n",
       "  [4 ,  1]  =  -0.0184348\n",
       "  [5 ,  1]  =  -0.629805\n",
       "  [6 ,  1]  =  0.399439\n",
       "  [7 ,  1]  =  -0.346628\n",
       "  [8 ,  1]  =  0.131743\n",
       "  [10,  1]  =  1.28734\n",
       "  [1 ,  2]  =  0.631291\n",
       "  [3 ,  2]  =  -1.23373\n",
       "  [4 ,  2]  =  -0.858585\n",
       "  ⋮\n",
       "  [5 ,  9]  =  0.478738\n",
       "  [6 ,  9]  =  0.605134\n",
       "  [7 ,  9]  =  1.27697\n",
       "  [8 ,  9]  =  -1.3962\n",
       "  [9 ,  9]  =  0.1171\n",
       "  [10,  9]  =  0.626685\n",
       "  [1 , 10]  =  0.313382\n",
       "  [2 , 10]  =  0.986252\n",
       "  [3 , 10]  =  0.506609\n",
       "  [5 , 10]  =  0.871816\n",
       "  [6 , 10]  =  0.699565\n",
       "  [10, 10]  =  2.00966"
      ]
     },
     "execution_count": 48,
     "metadata": {},
     "output_type": "execute_result"
    }
   ],
   "source": [
    "Random.seed!(1)\n",
    "\n",
    "# generate data\n",
    "A_sparse = sprandn(10, 10, .8)           # data matrix "
   ]
  },
  {
   "cell_type": "code",
   "execution_count": 49,
   "metadata": {},
   "outputs": [],
   "source": [
    "# look for a factorization with rank 5\n",
    "loss = HuberLoss()           # huber loss (less sensitive to outliers)\n",
    "reg = QuadReg(.1)            # a bit of quadratic regularization to stabilize optimization\n",
    "k = 5\n",
    "glrm = GLRM(A_sparse, loss, reg, reg, k);"
   ]
  },
  {
   "cell_type": "code",
   "execution_count": 50,
   "metadata": {},
   "outputs": [
    {
     "name": "stdout",
     "output_type": "stream",
     "text": [
      "SparseProxGradParams(1.0, 100, 1, 1.0e-5, 0.01)\n",
      "Fitting GLRM\n",
      "Iteration 10: objective value = 8.552659734332064\n",
      "Iteration 20: objective value = 7.284079660640899\n",
      "Iteration 30: objective value = 6.766039304968931\n",
      "obj went up to 6.747497710335832; reducing step size to 3.3354590280225285\n",
      "Iteration 40: objective value = 6.736723178681022\n"
     ]
    },
    {
     "data": {
      "text/plain": [
       "([-0.991674 -1.03559 … 0.0401162 0.0955925; -0.211574 -0.495183 … 0.77933 0.835709; … ; 0.102522 0.65755 … 0.84122 1.13623; -0.0537298 -0.52412 … -0.675134 0.143746], [-0.123595 -0.761107 … 0.744787 -0.203428; 0.686597 -0.0817114 … -0.458069 0.178608; … ; 0.342213 -1.139 … 0.862247 1.23863; -0.929952 -0.22684 … 0.307974 0.289198], ConvergenceHistory(\"SparseProxGradGLRM\", [29.5239, 20.385, 16.1818, 13.0011, 11.2101, 10.1598, 9.56309, 9.19018, 8.9299, 8.72685  …  6.74587, 6.74447, 6.74427, 6.74359, 6.74218, 6.73993, 6.73672, 6.73367, 6.73297, 6.73297], Float64[], [0.0, 0.0, 0.0, 0.0, 0.0, 0.0, 0.0, 0.0, 0.0, 0.0  …  0.0, 0.0, 0.0, 0.0, 0.0, 0.0, 0.0, 0.0, 0.0, 0.0], [0.0, 0.0, 0.0, 0.0, 0.0, 0.0, 0.0, 0.0, 0.0, 0.0  …  0.0, 0.0, 0.0, 0.0, 0.0, 0.0, 0.0, 0.0, 0.0, 0.0], [0.0, 0.00029397, 0.00050807, 0.000720024, 0.000930071, 0.00115204, 0.00135803, 0.00156212, 0.00176525, 0.00197124  …  0.00738215, 0.0158494, 0.0160904, 0.0163252, 0.0165744, 0.0168145, 0.0170374, 0.0173094, 0.0175276, 0.0175276], [0.0, 0.0, 0.0, 0.0, 0.0, 0.0, 0.0, 0.0, 0.0, 0.0  …  0.0, 0.0, 0.0, 0.0, 0.0, 0.0, 0.0, 0.0, 0.0, 0.0], 0))"
      ]
     },
     "execution_count": 50,
     "metadata": {},
     "output_type": "execute_result"
    }
   ],
   "source": [
    "init_svd!(glrm)\n",
    "fit!(glrm)"
   ]
  },
  {
   "cell_type": "code",
   "execution_count": 24,
   "metadata": {},
   "outputs": [
    {
     "data": {
      "text/plain": [
       "10×10 Array{Number,2}:\n",
       " -0.0966727   0.791675   -1.42062    …   0.204633   -0.538571  0.181196\n",
       "  0.770607   -0.0124144  -1.36692        0.655479   -0.191999  0.94515 \n",
       " -1.08961    -1.10973     0.551084      -0.798048    1.50655   0.402221\n",
       " -0.0424632  -0.734972    0.309693       0.0994774   0.786653  0.537266\n",
       " -0.722145    0.176413   -2.5177        -1.13072     0.310606  0.920044\n",
       "  0.200189   -1.2689      0.0490169  …  -0.246963    0.705589  0.632197\n",
       " -0.451865   -1.35531    -1.61069        1.04157     1.07224   1.59728 \n",
       "  0.247775    0.514768   -2.6205         1.41861    -1.26234   0.423273\n",
       "  1.76223    -1.14632    -0.405052       0.12392     0.128139  1.16516 \n",
       "  1.34187    -1.87765    -1.42005        0.50696     0.609254  1.88959 "
      ]
     },
     "execution_count": 24,
     "metadata": {},
     "output_type": "execute_result"
    }
   ],
   "source": [
    "impute(glrm)"
   ]
  },
  {
   "cell_type": "markdown",
   "metadata": {},
   "source": [
    "# Treating different columns differently\n",
    "The losses argument can also be an array of loss functions, with one for each column (in order). For example, for a data set with 3 columns, you could use:"
   ]
  },
  {
   "cell_type": "code",
   "execution_count": 25,
   "metadata": {},
   "outputs": [
    {
     "data": {
      "text/plain": [
       "3-element Array{Loss,1}:\n",
       " QuadLoss(1.0, RealDomain())              \n",
       " LogisticLoss(1.0, BoolDomain())          \n",
       " WeightedHingeLoss(1.0, BoolDomain(), 1.0)"
      ]
     },
     "execution_count": 25,
     "metadata": {},
     "output_type": "execute_result"
    }
   ],
   "source": [
    "losses = Loss[QuadLoss(), LogisticLoss(), HingeLoss()]"
   ]
  },
  {
   "cell_type": "markdown",
   "metadata": {},
   "source": [
    "Similiarly, the $r_w$ argument can be an array of regularizers, with one for each column (in order). For example, for a data set with 3 columns, you could use:"
   ]
  },
  {
   "cell_type": "code",
   "execution_count": 26,
   "metadata": {},
   "outputs": [
    {
     "data": {
      "text/plain": [
       "3-element Array{Regularizer,1}:\n",
       " QuadReg(1.0) \n",
       " QuadReg(10.0)\n",
       " OneReg(1.0)  "
      ]
     },
     "execution_count": 26,
     "metadata": {},
     "output_type": "execute_result"
    }
   ],
   "source": [
    "rw = Regularizer[QuadReg(1), QuadReg(10), OneReg()]"
   ]
  },
  {
   "cell_type": "markdown",
   "metadata": {},
   "source": [
    "# Example: fit a DataFrame, \"missing\" values are unobserved"
   ]
  },
  {
   "cell_type": "code",
   "execution_count": 27,
   "metadata": {},
   "outputs": [
    {
     "data": {
      "text/html": [
       "<table class=\"data-frame\"><thead><tr><th></th><th>x1</th><th>x2</th><th>x3</th><th>x4</th><th>x5</th><th>x6</th></tr><tr><th></th><th>Float64⍰</th><th>Int32⍰</th><th>Int32⍰</th><th>Int32⍰</th><th>Int32⍰</th><th>Bool⍰</th></tr></thead><tbody><p>3,896 rows × 6 columns</p><tr><th>1</th><td>15.0</td><td>1</td><td>1</td><td>1</td><td>1</td><td>true</td></tr><tr><th>2</th><td>15.0</td><td>1</td><td>1</td><td>1</td><td>0</td><td>true</td></tr><tr><th>3</th><td>15.0</td><td>0</td><td>0</td><td>0</td><td>0</td><td>true</td></tr><tr><th>4</th><td>missing</td><td>0</td><td>3</td><td>1</td><td>1</td><td>true</td></tr><tr><th>5</th><td>5.83</td><td>0</td><td>1</td><td>1</td><td>2</td><td>false</td></tr><tr><th>6</th><td>5.83</td><td>0</td><td>2</td><td>1</td><td>1</td><td>false</td></tr><tr><th>7</th><td>5.83</td><td>0</td><td>0</td><td>1</td><td>0</td><td>false</td></tr><tr><th>8</th><td>5.83</td><td>0</td><td>1</td><td>0</td><td>0</td><td>false</td></tr><tr><th>9</th><td>5.83</td><td>0</td><td>1</td><td>0</td><td>1</td><td>true</td></tr><tr><th>10</th><td>5.83</td><td>0</td><td>2</td><td>2</td><td>0</td><td>false</td></tr><tr><th>11</th><td>5.83</td><td>0</td><td>0</td><td>0</td><td>0</td><td>false</td></tr><tr><th>12</th><td>5.83</td><td>0</td><td>2</td><td>1</td><td>0</td><td>true</td></tr><tr><th>13</th><td>5.83</td><td>0</td><td>0</td><td>0</td><td>0</td><td>false</td></tr><tr><th>14</th><td>5.83</td><td>1</td><td>1</td><td>1</td><td>1</td><td>false</td></tr><tr><th>15</th><td>5.83</td><td>0</td><td>2</td><td>2</td><td>0</td><td>false</td></tr><tr><th>16</th><td>5.83</td><td>0</td><td>1</td><td>0</td><td>0</td><td>false</td></tr><tr><th>17</th><td>5.83</td><td>1</td><td>1</td><td>1</td><td>1</td><td>false</td></tr><tr><th>18</th><td>5.83</td><td>1</td><td>1</td><td>2</td><td>0</td><td>false</td></tr><tr><th>19</th><td>5.83</td><td>0</td><td>0</td><td>0</td><td>0</td><td>false</td></tr><tr><th>20</th><td>5.83</td><td>0</td><td>1</td><td>1</td><td>0</td><td>false</td></tr><tr><th>21</th><td>5.83</td><td>0</td><td>0</td><td>0</td><td>0</td><td>false</td></tr><tr><th>22</th><td>5.83</td><td>0</td><td>0</td><td>0</td><td>0</td><td>false</td></tr><tr><th>23</th><td>5.83</td><td>0</td><td>1</td><td>0</td><td>1</td><td>false</td></tr><tr><th>24</th><td>5.83</td><td>1</td><td>1</td><td>2</td><td>1</td><td>false</td></tr><tr><th>25</th><td>5.83</td><td>0</td><td>3</td><td>2</td><td>0</td><td>false</td></tr><tr><th>26</th><td>5.83</td><td>0</td><td>0</td><td>0</td><td>0</td><td>false</td></tr><tr><th>27</th><td>5.83</td><td>0</td><td>0</td><td>0</td><td>0</td><td>false</td></tr><tr><th>28</th><td>5.83</td><td>2</td><td>2</td><td>2</td><td>3</td><td>false</td></tr><tr><th>29</th><td>8.5</td><td>0</td><td>1</td><td>1</td><td>0</td><td>false</td></tr><tr><th>30</th><td>8.5</td><td>0</td><td>0</td><td>0</td><td>0</td><td>false</td></tr><tr><th>&vellip;</th><td>&vellip;</td><td>&vellip;</td><td>&vellip;</td><td>&vellip;</td><td>&vellip;</td><td>&vellip;</td></tr></tbody></table>"
      ],
      "text/latex": [
       "\\begin{tabular}{r|cccccc}\n",
       "\t& x1 & x2 & x3 & x4 & x5 & x6\\\\\n",
       "\t\\hline\n",
       "\t& Float64⍰ & Int32⍰ & Int32⍰ & Int32⍰ & Int32⍰ & Bool⍰\\\\\n",
       "\t\\hline\n",
       "\t1 & 15.0 & 1 & 1 & 1 & 1 & true \\\\\n",
       "\t2 & 15.0 & 1 & 1 & 1 & 0 & true \\\\\n",
       "\t3 & 15.0 & 0 & 0 & 0 & 0 & true \\\\\n",
       "\t4 &  & 0 & 3 & 1 & 1 & true \\\\\n",
       "\t5 & 5.83 & 0 & 1 & 1 & 2 & false \\\\\n",
       "\t6 & 5.83 & 0 & 2 & 1 & 1 & false \\\\\n",
       "\t7 & 5.83 & 0 & 0 & 1 & 0 & false \\\\\n",
       "\t8 & 5.83 & 0 & 1 & 0 & 0 & false \\\\\n",
       "\t9 & 5.83 & 0 & 1 & 0 & 1 & true \\\\\n",
       "\t10 & 5.83 & 0 & 2 & 2 & 0 & false \\\\\n",
       "\t11 & 5.83 & 0 & 0 & 0 & 0 & false \\\\\n",
       "\t12 & 5.83 & 0 & 2 & 1 & 0 & true \\\\\n",
       "\t13 & 5.83 & 0 & 0 & 0 & 0 & false \\\\\n",
       "\t14 & 5.83 & 1 & 1 & 1 & 1 & false \\\\\n",
       "\t15 & 5.83 & 0 & 2 & 2 & 0 & false \\\\\n",
       "\t16 & 5.83 & 0 & 1 & 0 & 0 & false \\\\\n",
       "\t17 & 5.83 & 1 & 1 & 1 & 1 & false \\\\\n",
       "\t18 & 5.83 & 1 & 1 & 2 & 0 & false \\\\\n",
       "\t19 & 5.83 & 0 & 0 & 0 & 0 & false \\\\\n",
       "\t20 & 5.83 & 0 & 1 & 1 & 0 & false \\\\\n",
       "\t21 & 5.83 & 0 & 0 & 0 & 0 & false \\\\\n",
       "\t22 & 5.83 & 0 & 0 & 0 & 0 & false \\\\\n",
       "\t23 & 5.83 & 0 & 1 & 0 & 1 & false \\\\\n",
       "\t24 & 5.83 & 1 & 1 & 2 & 1 & false \\\\\n",
       "\t25 & 5.83 & 0 & 3 & 2 & 0 & false \\\\\n",
       "\t26 & 5.83 & 0 & 0 & 0 & 0 & false \\\\\n",
       "\t27 & 5.83 & 0 & 0 & 0 & 0 & false \\\\\n",
       "\t28 & 5.83 & 2 & 2 & 2 & 3 & false \\\\\n",
       "\t29 & 8.5 & 0 & 1 & 1 & 0 & false \\\\\n",
       "\t30 & 8.5 & 0 & 0 & 0 & 0 & false \\\\\n",
       "\t$\\dots$ & $\\dots$ & $\\dots$ & $\\dots$ & $\\dots$ & $\\dots$ & $\\dots$ \\\\\n",
       "\\end{tabular}\n"
      ],
      "text/plain": [
       "3896×6 DataFrame\n",
       "│ Row  │ x1       │ x2     │ x3     │ x4     │ x5     │ x6      │\n",
       "│      │ \u001b[90mFloat64⍰\u001b[39m │ \u001b[90mInt32⍰\u001b[39m │ \u001b[90mInt32⍰\u001b[39m │ \u001b[90mInt32⍰\u001b[39m │ \u001b[90mInt32⍰\u001b[39m │ \u001b[90mBool⍰\u001b[39m   │\n",
       "├──────┼──────────┼────────┼────────┼────────┼────────┼─────────┤\n",
       "│ 1    │ 15.0     │ 1      │ 1      │ 1      │ 1      │ true    │\n",
       "│ 2    │ 15.0     │ 1      │ 1      │ 1      │ 0      │ true    │\n",
       "│ 3    │ 15.0     │ 0      │ 0      │ 0      │ 0      │ true    │\n",
       "│ 4    │ \u001b[90mmissing\u001b[39m  │ 0      │ 3      │ 1      │ 1      │ true    │\n",
       "│ 5    │ 5.83     │ 0      │ 1      │ 1      │ 2      │ false   │\n",
       "│ 6    │ 5.83     │ 0      │ 2      │ 1      │ 1      │ false   │\n",
       "│ 7    │ 5.83     │ 0      │ 0      │ 1      │ 0      │ false   │\n",
       "│ 8    │ 5.83     │ 0      │ 1      │ 0      │ 0      │ false   │\n",
       "│ 9    │ 5.83     │ 0      │ 1      │ 0      │ 1      │ true    │\n",
       "│ 10   │ 5.83     │ 0      │ 2      │ 2      │ 0      │ false   │\n",
       "⋮\n",
       "│ 3886 │ 8.83     │ 2      │ 1      │ 2      │ 0      │ false   │\n",
       "│ 3887 │ 20.0     │ 1      │ 0      │ 1      │ 0      │ true    │\n",
       "│ 3888 │ 20.0     │ 2      │ 2      │ 3      │ 2      │ \u001b[90mmissing\u001b[39m │\n",
       "│ 3889 │ 20.0     │ 1      │ 2      │ 2      │ 0      │ false   │\n",
       "│ 3890 │ 8.83     │ 3      │ 2      │ 3      │ 2      │ false   │\n",
       "│ 3891 │ 8.83     │ 0      │ 1      │ 0      │ 0      │ false   │\n",
       "│ 3892 │ 8.83     │ 0      │ 1      │ 1      │ 0      │ true    │\n",
       "│ 3893 │ 8.83     │ 2      │ 1      │ 2      │ 0      │ true    │\n",
       "│ 3894 │ 20.0     │ 1      │ 1      │ 1      │ 1      │ false   │\n",
       "│ 3895 │ 20.0     │ 2      │ 3      │ 2      │ 3      │ false   │\n",
       "│ 3896 │ 8.83     │ 2      │ 1      │ 3      │ 2      │ false   │"
      ]
     },
     "execution_count": 27,
     "metadata": {},
     "output_type": "execute_result"
    }
   ],
   "source": [
    "import RDatasets\n",
    "\n",
    "# pick a data set\n",
    "df = RDatasets.dataset(\"psych\", \"msq\")\n",
    "\n",
    "# we'll just fit four of the columns, to try out all four datatypes\n",
    "dd = DataFrame([df[:,s] for s in [:TOD, :Vigorous, :Wakeful, :Alert, :Aroused, :Active]])\n",
    "dd[!,end] = (dd[:,end].==1)\n",
    "dd"
   ]
  },
  {
   "cell_type": "code",
   "execution_count": 28,
   "metadata": {},
   "outputs": [
    {
     "name": "stdout",
     "output_type": "stream",
     "text": [
      "Fitting GLRM\n",
      "Iteration 10: objective value = 616391.8040989658\n"
     ]
    },
    {
     "data": {
      "text/plain": [
       "([2.31598 0.527873 … 33.0602 20.6132; 56.5888 -1.95913 … 877.48 525.183; 1.0 1.0 … 1.0 1.0], [69.4744 0.389526 … 0.0202745 0.000594404; -2.6095 4.32169 … 0.286079 -0.289207; -0.0295668 0.681859 … -0.234629 5.95673], ConvergenceHistory(\"ProxGradGLRM\", [Inf, 6.28365e8, 2.15877e8, 1.2005e8, 5.75613e7, 1.77865e7, 7.25982e6, 2.26479e6, 8.91901e5, 6.77011e5, 6.16392e5, 5.7224e5, 5.5592e5, 5.41964e5, 5.36621e5, 5.32963e5, 5.33438e5], Float64[], [0.0, 0.0, 0.0, 0.0, 0.0, 0.0, 0.0, 0.0, 0.0, 0.0, 0.0, 0.0, 0.0, 0.0, 0.0, 0.0, 0.0], [0.0, 0.0, 0.0, 0.0, 0.0, 0.0, 0.0, 0.0, 0.0, 0.0, 0.0, 0.0, 0.0, 0.0, 0.0, 0.0, 0.0], [0.0, 1.25985, 1.47919, 1.56138, 1.64046, 1.7209, 1.79883, 1.88875, 1.9633, 2.0404, 2.1165, 2.20071, 2.27553, 2.35042, 2.42726, 2.4964, 2.56987], [0.0, 0.0, 0.0, 0.0, 0.0, 0.0, 0.0, 0.0, 0.0, 0.0, 0.0, 0.0, 0.0, 0.0, 0.0, 0.0, 0.0], 0))"
      ]
     },
     "execution_count": 28,
     "metadata": {},
     "output_type": "execute_result"
    }
   ],
   "source": [
    "# help out by telling GLRM the correct data types\n",
    "datatypes = [:real, :ord, :ord, :ord, :ord, :bool]\n",
    "\n",
    "# fit it!\n",
    "glrm = GLRM(dd, 3, datatypes)\n",
    "init_svd!(glrm)\n",
    "X,Y = fit!(glrm)"
   ]
  },
  {
   "cell_type": "code",
   "execution_count": 29,
   "metadata": {},
   "outputs": [
    {
     "data": {
      "text/plain": [
       "6-element Array{Loss,1}:\n",
       " QuadLoss(0.02754069817953867, RealDomain())        \n",
       " MultinomialOrdinalLoss(4, 1.0, OrdinalDomain(1, 4))\n",
       " MultinomialOrdinalLoss(4, 1.0, OrdinalDomain(1, 4))\n",
       " MultinomialOrdinalLoss(4, 1.0, OrdinalDomain(1, 4))\n",
       " MultinomialOrdinalLoss(4, 1.0, OrdinalDomain(1, 4))\n",
       " LogisticLoss(1.0, BoolDomain())                    "
      ]
     },
     "execution_count": 29,
     "metadata": {},
     "output_type": "execute_result"
    }
   ],
   "source": [
    "glrm.losses"
   ]
  }
 ],
 "metadata": {
  "kernelspec": {
   "display_name": "Julia 1.1.0",
   "language": "julia",
   "name": "julia-1.1"
  },
  "language_info": {
   "file_extension": ".jl",
   "mimetype": "application/julia",
   "name": "julia",
   "version": "1.1.0"
  }
 },
 "nbformat": 4,
 "nbformat_minor": 1
}
